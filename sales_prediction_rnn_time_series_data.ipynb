{
  "nbformat": 4,
  "nbformat_minor": 0,
  "metadata": {
    "colab": {
      "provenance": [],
      "collapsed_sections": []
    },
    "kernelspec": {
      "name": "python3",
      "display_name": "Python 3"
    },
    "language_info": {
      "name": "python"
    }
  },
  "cells": [
    {
      "cell_type": "code",
      "execution_count": null,
      "metadata": {
        "id": "CKhXNVnDABc2"
      },
      "outputs": [],
      "source": [
        "import numpy as np\n",
        "import pandas as pd\n",
        "from sklearn.preprocessing import MinMaxScaler\n",
        "import tensorflow as tf"
      ]
    },
    {
      "cell_type": "code",
      "source": [
        "from google.colab import drive\n",
        "drive.mount(\"/content/drive\")"
      ],
      "metadata": {
        "colab": {
          "base_uri": "https://localhost:8080/"
        },
        "id": "8NJmh9jCBElS",
        "outputId": "14fbf634-b799-40da-f62c-4356b604e3bd"
      },
      "execution_count": null,
      "outputs": [
        {
          "output_type": "stream",
          "name": "stdout",
          "text": [
            "Mounted at /content/drive\n"
          ]
        }
      ]
    },
    {
      "cell_type": "code",
      "source": [
        "df = pd.read_csv(\"/content/drive/My Drive/monthly-milk-production-pounds.csv\", parse_dates = [\"Month\"])\n",
        "\n",
        "df.head(2)\n"
      ],
      "metadata": {
        "colab": {
          "base_uri": "https://localhost:8080/",
          "height": 112
        },
        "id": "9zj4HwcPBRu0",
        "outputId": "934a4475-189b-4467-9e84-dcb787236f95"
      },
      "execution_count": null,
      "outputs": [
        {
          "output_type": "execute_result",
          "data": {
            "text/plain": [
              "     Month  Monthly milk production: pounds per cow. Jan 62 ? Dec 75\n",
              "0  1962-01                                              589.0       \n",
              "1  1962-02                                              561.0       "
            ],
            "text/html": [
              "\n",
              "  <div id=\"df-a50b7a96-eaab-4232-855c-c2a3135f30ed\">\n",
              "    <div class=\"colab-df-container\">\n",
              "      <div>\n",
              "<style scoped>\n",
              "    .dataframe tbody tr th:only-of-type {\n",
              "        vertical-align: middle;\n",
              "    }\n",
              "\n",
              "    .dataframe tbody tr th {\n",
              "        vertical-align: top;\n",
              "    }\n",
              "\n",
              "    .dataframe thead th {\n",
              "        text-align: right;\n",
              "    }\n",
              "</style>\n",
              "<table border=\"1\" class=\"dataframe\">\n",
              "  <thead>\n",
              "    <tr style=\"text-align: right;\">\n",
              "      <th></th>\n",
              "      <th>Month</th>\n",
              "      <th>Monthly milk production: pounds per cow. Jan 62 ? Dec 75</th>\n",
              "    </tr>\n",
              "  </thead>\n",
              "  <tbody>\n",
              "    <tr>\n",
              "      <th>0</th>\n",
              "      <td>1962-01</td>\n",
              "      <td>589.0</td>\n",
              "    </tr>\n",
              "    <tr>\n",
              "      <th>1</th>\n",
              "      <td>1962-02</td>\n",
              "      <td>561.0</td>\n",
              "    </tr>\n",
              "  </tbody>\n",
              "</table>\n",
              "</div>\n",
              "      <button class=\"colab-df-convert\" onclick=\"convertToInteractive('df-a50b7a96-eaab-4232-855c-c2a3135f30ed')\"\n",
              "              title=\"Convert this dataframe to an interactive table.\"\n",
              "              style=\"display:none;\">\n",
              "        \n",
              "  <svg xmlns=\"http://www.w3.org/2000/svg\" height=\"24px\"viewBox=\"0 0 24 24\"\n",
              "       width=\"24px\">\n",
              "    <path d=\"M0 0h24v24H0V0z\" fill=\"none\"/>\n",
              "    <path d=\"M18.56 5.44l.94 2.06.94-2.06 2.06-.94-2.06-.94-.94-2.06-.94 2.06-2.06.94zm-11 1L8.5 8.5l.94-2.06 2.06-.94-2.06-.94L8.5 2.5l-.94 2.06-2.06.94zm10 10l.94 2.06.94-2.06 2.06-.94-2.06-.94-.94-2.06-.94 2.06-2.06.94z\"/><path d=\"M17.41 7.96l-1.37-1.37c-.4-.4-.92-.59-1.43-.59-.52 0-1.04.2-1.43.59L10.3 9.45l-7.72 7.72c-.78.78-.78 2.05 0 2.83L4 21.41c.39.39.9.59 1.41.59.51 0 1.02-.2 1.41-.59l7.78-7.78 2.81-2.81c.8-.78.8-2.07 0-2.86zM5.41 20L4 18.59l7.72-7.72 1.47 1.35L5.41 20z\"/>\n",
              "  </svg>\n",
              "      </button>\n",
              "      \n",
              "  <style>\n",
              "    .colab-df-container {\n",
              "      display:flex;\n",
              "      flex-wrap:wrap;\n",
              "      gap: 12px;\n",
              "    }\n",
              "\n",
              "    .colab-df-convert {\n",
              "      background-color: #E8F0FE;\n",
              "      border: none;\n",
              "      border-radius: 50%;\n",
              "      cursor: pointer;\n",
              "      display: none;\n",
              "      fill: #1967D2;\n",
              "      height: 32px;\n",
              "      padding: 0 0 0 0;\n",
              "      width: 32px;\n",
              "    }\n",
              "\n",
              "    .colab-df-convert:hover {\n",
              "      background-color: #E2EBFA;\n",
              "      box-shadow: 0px 1px 2px rgba(60, 64, 67, 0.3), 0px 1px 3px 1px rgba(60, 64, 67, 0.15);\n",
              "      fill: #174EA6;\n",
              "    }\n",
              "\n",
              "    [theme=dark] .colab-df-convert {\n",
              "      background-color: #3B4455;\n",
              "      fill: #D2E3FC;\n",
              "    }\n",
              "\n",
              "    [theme=dark] .colab-df-convert:hover {\n",
              "      background-color: #434B5C;\n",
              "      box-shadow: 0px 1px 3px 1px rgba(0, 0, 0, 0.15);\n",
              "      filter: drop-shadow(0px 1px 2px rgba(0, 0, 0, 0.3));\n",
              "      fill: #FFFFFF;\n",
              "    }\n",
              "  </style>\n",
              "\n",
              "      <script>\n",
              "        const buttonEl =\n",
              "          document.querySelector('#df-a50b7a96-eaab-4232-855c-c2a3135f30ed button.colab-df-convert');\n",
              "        buttonEl.style.display =\n",
              "          google.colab.kernel.accessAllowed ? 'block' : 'none';\n",
              "\n",
              "        async function convertToInteractive(key) {\n",
              "          const element = document.querySelector('#df-a50b7a96-eaab-4232-855c-c2a3135f30ed');\n",
              "          const dataTable =\n",
              "            await google.colab.kernel.invokeFunction('convertToInteractive',\n",
              "                                                     [key], {});\n",
              "          if (!dataTable) return;\n",
              "\n",
              "          const docLinkHtml = 'Like what you see? Visit the ' +\n",
              "            '<a target=\"_blank\" href=https://colab.research.google.com/notebooks/data_table.ipynb>data table notebook</a>'\n",
              "            + ' to learn more about interactive tables.';\n",
              "          element.innerHTML = '';\n",
              "          dataTable['output_type'] = 'display_data';\n",
              "          await google.colab.output.renderOutput(dataTable, element);\n",
              "          const docLink = document.createElement('div');\n",
              "          docLink.innerHTML = docLinkHtml;\n",
              "          element.appendChild(docLink);\n",
              "        }\n",
              "      </script>\n",
              "    </div>\n",
              "  </div>\n",
              "  "
            ]
          },
          "metadata": {},
          "execution_count": 39
        }
      ]
    },
    {
      "cell_type": "code",
      "source": [
        "df.dropna(inplace = True)"
      ],
      "metadata": {
        "id": "Wji1P4hmBvIM"
      },
      "execution_count": null,
      "outputs": []
    },
    {
      "cell_type": "code",
      "source": [
        "df[\"Month\"] = pd.to_datetime(df[\"Month\"])"
      ],
      "metadata": {
        "id": "2Hap3Sl1CC0s"
      },
      "execution_count": null,
      "outputs": []
    },
    {
      "cell_type": "code",
      "source": [
        "df.head()"
      ],
      "metadata": {
        "colab": {
          "base_uri": "https://localhost:8080/",
          "height": 206
        },
        "id": "sUOkmpLIC9Ep",
        "outputId": "e85e674b-9fb3-4b94-c5f2-d17829065b5b"
      },
      "execution_count": null,
      "outputs": [
        {
          "output_type": "execute_result",
          "data": {
            "text/plain": [
              "       Month  Monthly milk production: pounds per cow. Jan 62 ? Dec 75\n",
              "0 1962-01-01                                              589.0       \n",
              "1 1962-02-01                                              561.0       \n",
              "2 1962-03-01                                              640.0       \n",
              "3 1962-04-01                                              656.0       \n",
              "4 1962-05-01                                              727.0       "
            ],
            "text/html": [
              "\n",
              "  <div id=\"df-67663f9b-2da8-408d-a260-dc017029e15a\">\n",
              "    <div class=\"colab-df-container\">\n",
              "      <div>\n",
              "<style scoped>\n",
              "    .dataframe tbody tr th:only-of-type {\n",
              "        vertical-align: middle;\n",
              "    }\n",
              "\n",
              "    .dataframe tbody tr th {\n",
              "        vertical-align: top;\n",
              "    }\n",
              "\n",
              "    .dataframe thead th {\n",
              "        text-align: right;\n",
              "    }\n",
              "</style>\n",
              "<table border=\"1\" class=\"dataframe\">\n",
              "  <thead>\n",
              "    <tr style=\"text-align: right;\">\n",
              "      <th></th>\n",
              "      <th>Month</th>\n",
              "      <th>Monthly milk production: pounds per cow. Jan 62 ? Dec 75</th>\n",
              "    </tr>\n",
              "  </thead>\n",
              "  <tbody>\n",
              "    <tr>\n",
              "      <th>0</th>\n",
              "      <td>1962-01-01</td>\n",
              "      <td>589.0</td>\n",
              "    </tr>\n",
              "    <tr>\n",
              "      <th>1</th>\n",
              "      <td>1962-02-01</td>\n",
              "      <td>561.0</td>\n",
              "    </tr>\n",
              "    <tr>\n",
              "      <th>2</th>\n",
              "      <td>1962-03-01</td>\n",
              "      <td>640.0</td>\n",
              "    </tr>\n",
              "    <tr>\n",
              "      <th>3</th>\n",
              "      <td>1962-04-01</td>\n",
              "      <td>656.0</td>\n",
              "    </tr>\n",
              "    <tr>\n",
              "      <th>4</th>\n",
              "      <td>1962-05-01</td>\n",
              "      <td>727.0</td>\n",
              "    </tr>\n",
              "  </tbody>\n",
              "</table>\n",
              "</div>\n",
              "      <button class=\"colab-df-convert\" onclick=\"convertToInteractive('df-67663f9b-2da8-408d-a260-dc017029e15a')\"\n",
              "              title=\"Convert this dataframe to an interactive table.\"\n",
              "              style=\"display:none;\">\n",
              "        \n",
              "  <svg xmlns=\"http://www.w3.org/2000/svg\" height=\"24px\"viewBox=\"0 0 24 24\"\n",
              "       width=\"24px\">\n",
              "    <path d=\"M0 0h24v24H0V0z\" fill=\"none\"/>\n",
              "    <path d=\"M18.56 5.44l.94 2.06.94-2.06 2.06-.94-2.06-.94-.94-2.06-.94 2.06-2.06.94zm-11 1L8.5 8.5l.94-2.06 2.06-.94-2.06-.94L8.5 2.5l-.94 2.06-2.06.94zm10 10l.94 2.06.94-2.06 2.06-.94-2.06-.94-.94-2.06-.94 2.06-2.06.94z\"/><path d=\"M17.41 7.96l-1.37-1.37c-.4-.4-.92-.59-1.43-.59-.52 0-1.04.2-1.43.59L10.3 9.45l-7.72 7.72c-.78.78-.78 2.05 0 2.83L4 21.41c.39.39.9.59 1.41.59.51 0 1.02-.2 1.41-.59l7.78-7.78 2.81-2.81c.8-.78.8-2.07 0-2.86zM5.41 20L4 18.59l7.72-7.72 1.47 1.35L5.41 20z\"/>\n",
              "  </svg>\n",
              "      </button>\n",
              "      \n",
              "  <style>\n",
              "    .colab-df-container {\n",
              "      display:flex;\n",
              "      flex-wrap:wrap;\n",
              "      gap: 12px;\n",
              "    }\n",
              "\n",
              "    .colab-df-convert {\n",
              "      background-color: #E8F0FE;\n",
              "      border: none;\n",
              "      border-radius: 50%;\n",
              "      cursor: pointer;\n",
              "      display: none;\n",
              "      fill: #1967D2;\n",
              "      height: 32px;\n",
              "      padding: 0 0 0 0;\n",
              "      width: 32px;\n",
              "    }\n",
              "\n",
              "    .colab-df-convert:hover {\n",
              "      background-color: #E2EBFA;\n",
              "      box-shadow: 0px 1px 2px rgba(60, 64, 67, 0.3), 0px 1px 3px 1px rgba(60, 64, 67, 0.15);\n",
              "      fill: #174EA6;\n",
              "    }\n",
              "\n",
              "    [theme=dark] .colab-df-convert {\n",
              "      background-color: #3B4455;\n",
              "      fill: #D2E3FC;\n",
              "    }\n",
              "\n",
              "    [theme=dark] .colab-df-convert:hover {\n",
              "      background-color: #434B5C;\n",
              "      box-shadow: 0px 1px 3px 1px rgba(0, 0, 0, 0.15);\n",
              "      filter: drop-shadow(0px 1px 2px rgba(0, 0, 0, 0.3));\n",
              "      fill: #FFFFFF;\n",
              "    }\n",
              "  </style>\n",
              "\n",
              "      <script>\n",
              "        const buttonEl =\n",
              "          document.querySelector('#df-67663f9b-2da8-408d-a260-dc017029e15a button.colab-df-convert');\n",
              "        buttonEl.style.display =\n",
              "          google.colab.kernel.accessAllowed ? 'block' : 'none';\n",
              "\n",
              "        async function convertToInteractive(key) {\n",
              "          const element = document.querySelector('#df-67663f9b-2da8-408d-a260-dc017029e15a');\n",
              "          const dataTable =\n",
              "            await google.colab.kernel.invokeFunction('convertToInteractive',\n",
              "                                                     [key], {});\n",
              "          if (!dataTable) return;\n",
              "\n",
              "          const docLinkHtml = 'Like what you see? Visit the ' +\n",
              "            '<a target=\"_blank\" href=https://colab.research.google.com/notebooks/data_table.ipynb>data table notebook</a>'\n",
              "            + ' to learn more about interactive tables.';\n",
              "          element.innerHTML = '';\n",
              "          dataTable['output_type'] = 'display_data';\n",
              "          await google.colab.output.renderOutput(dataTable, element);\n",
              "          const docLink = document.createElement('div');\n",
              "          docLink.innerHTML = docLinkHtml;\n",
              "          element.appendChild(docLink);\n",
              "        }\n",
              "      </script>\n",
              "    </div>\n",
              "  </div>\n",
              "  "
            ]
          },
          "metadata": {},
          "execution_count": 42
        }
      ]
    },
    {
      "cell_type": "code",
      "source": [
        "df.index = df[\"Month\"]"
      ],
      "metadata": {
        "id": "9N0sxXv2DRjj"
      },
      "execution_count": null,
      "outputs": []
    },
    {
      "cell_type": "code",
      "source": [
        "df.head()"
      ],
      "metadata": {
        "colab": {
          "base_uri": "https://localhost:8080/",
          "height": 238
        },
        "id": "g73vvT74DWmw",
        "outputId": "dc0acd83-e6c4-489b-829d-1730860c0871"
      },
      "execution_count": null,
      "outputs": [
        {
          "output_type": "execute_result",
          "data": {
            "text/plain": [
              "                Month  \\\n",
              "Month                   \n",
              "1962-01-01 1962-01-01   \n",
              "1962-02-01 1962-02-01   \n",
              "1962-03-01 1962-03-01   \n",
              "1962-04-01 1962-04-01   \n",
              "1962-05-01 1962-05-01   \n",
              "\n",
              "            Monthly milk production: pounds per cow. Jan 62 ? Dec 75  \n",
              "Month                                                                 \n",
              "1962-01-01                                              589.0         \n",
              "1962-02-01                                              561.0         \n",
              "1962-03-01                                              640.0         \n",
              "1962-04-01                                              656.0         \n",
              "1962-05-01                                              727.0         "
            ],
            "text/html": [
              "\n",
              "  <div id=\"df-74bdb0ce-d08f-4196-b47d-68a81221483f\">\n",
              "    <div class=\"colab-df-container\">\n",
              "      <div>\n",
              "<style scoped>\n",
              "    .dataframe tbody tr th:only-of-type {\n",
              "        vertical-align: middle;\n",
              "    }\n",
              "\n",
              "    .dataframe tbody tr th {\n",
              "        vertical-align: top;\n",
              "    }\n",
              "\n",
              "    .dataframe thead th {\n",
              "        text-align: right;\n",
              "    }\n",
              "</style>\n",
              "<table border=\"1\" class=\"dataframe\">\n",
              "  <thead>\n",
              "    <tr style=\"text-align: right;\">\n",
              "      <th></th>\n",
              "      <th>Month</th>\n",
              "      <th>Monthly milk production: pounds per cow. Jan 62 ? Dec 75</th>\n",
              "    </tr>\n",
              "    <tr>\n",
              "      <th>Month</th>\n",
              "      <th></th>\n",
              "      <th></th>\n",
              "    </tr>\n",
              "  </thead>\n",
              "  <tbody>\n",
              "    <tr>\n",
              "      <th>1962-01-01</th>\n",
              "      <td>1962-01-01</td>\n",
              "      <td>589.0</td>\n",
              "    </tr>\n",
              "    <tr>\n",
              "      <th>1962-02-01</th>\n",
              "      <td>1962-02-01</td>\n",
              "      <td>561.0</td>\n",
              "    </tr>\n",
              "    <tr>\n",
              "      <th>1962-03-01</th>\n",
              "      <td>1962-03-01</td>\n",
              "      <td>640.0</td>\n",
              "    </tr>\n",
              "    <tr>\n",
              "      <th>1962-04-01</th>\n",
              "      <td>1962-04-01</td>\n",
              "      <td>656.0</td>\n",
              "    </tr>\n",
              "    <tr>\n",
              "      <th>1962-05-01</th>\n",
              "      <td>1962-05-01</td>\n",
              "      <td>727.0</td>\n",
              "    </tr>\n",
              "  </tbody>\n",
              "</table>\n",
              "</div>\n",
              "      <button class=\"colab-df-convert\" onclick=\"convertToInteractive('df-74bdb0ce-d08f-4196-b47d-68a81221483f')\"\n",
              "              title=\"Convert this dataframe to an interactive table.\"\n",
              "              style=\"display:none;\">\n",
              "        \n",
              "  <svg xmlns=\"http://www.w3.org/2000/svg\" height=\"24px\"viewBox=\"0 0 24 24\"\n",
              "       width=\"24px\">\n",
              "    <path d=\"M0 0h24v24H0V0z\" fill=\"none\"/>\n",
              "    <path d=\"M18.56 5.44l.94 2.06.94-2.06 2.06-.94-2.06-.94-.94-2.06-.94 2.06-2.06.94zm-11 1L8.5 8.5l.94-2.06 2.06-.94-2.06-.94L8.5 2.5l-.94 2.06-2.06.94zm10 10l.94 2.06.94-2.06 2.06-.94-2.06-.94-.94-2.06-.94 2.06-2.06.94z\"/><path d=\"M17.41 7.96l-1.37-1.37c-.4-.4-.92-.59-1.43-.59-.52 0-1.04.2-1.43.59L10.3 9.45l-7.72 7.72c-.78.78-.78 2.05 0 2.83L4 21.41c.39.39.9.59 1.41.59.51 0 1.02-.2 1.41-.59l7.78-7.78 2.81-2.81c.8-.78.8-2.07 0-2.86zM5.41 20L4 18.59l7.72-7.72 1.47 1.35L5.41 20z\"/>\n",
              "  </svg>\n",
              "      </button>\n",
              "      \n",
              "  <style>\n",
              "    .colab-df-container {\n",
              "      display:flex;\n",
              "      flex-wrap:wrap;\n",
              "      gap: 12px;\n",
              "    }\n",
              "\n",
              "    .colab-df-convert {\n",
              "      background-color: #E8F0FE;\n",
              "      border: none;\n",
              "      border-radius: 50%;\n",
              "      cursor: pointer;\n",
              "      display: none;\n",
              "      fill: #1967D2;\n",
              "      height: 32px;\n",
              "      padding: 0 0 0 0;\n",
              "      width: 32px;\n",
              "    }\n",
              "\n",
              "    .colab-df-convert:hover {\n",
              "      background-color: #E2EBFA;\n",
              "      box-shadow: 0px 1px 2px rgba(60, 64, 67, 0.3), 0px 1px 3px 1px rgba(60, 64, 67, 0.15);\n",
              "      fill: #174EA6;\n",
              "    }\n",
              "\n",
              "    [theme=dark] .colab-df-convert {\n",
              "      background-color: #3B4455;\n",
              "      fill: #D2E3FC;\n",
              "    }\n",
              "\n",
              "    [theme=dark] .colab-df-convert:hover {\n",
              "      background-color: #434B5C;\n",
              "      box-shadow: 0px 1px 3px 1px rgba(0, 0, 0, 0.15);\n",
              "      filter: drop-shadow(0px 1px 2px rgba(0, 0, 0, 0.3));\n",
              "      fill: #FFFFFF;\n",
              "    }\n",
              "  </style>\n",
              "\n",
              "      <script>\n",
              "        const buttonEl =\n",
              "          document.querySelector('#df-74bdb0ce-d08f-4196-b47d-68a81221483f button.colab-df-convert');\n",
              "        buttonEl.style.display =\n",
              "          google.colab.kernel.accessAllowed ? 'block' : 'none';\n",
              "\n",
              "        async function convertToInteractive(key) {\n",
              "          const element = document.querySelector('#df-74bdb0ce-d08f-4196-b47d-68a81221483f');\n",
              "          const dataTable =\n",
              "            await google.colab.kernel.invokeFunction('convertToInteractive',\n",
              "                                                     [key], {});\n",
              "          if (!dataTable) return;\n",
              "\n",
              "          const docLinkHtml = 'Like what you see? Visit the ' +\n",
              "            '<a target=\"_blank\" href=https://colab.research.google.com/notebooks/data_table.ipynb>data table notebook</a>'\n",
              "            + ' to learn more about interactive tables.';\n",
              "          element.innerHTML = '';\n",
              "          dataTable['output_type'] = 'display_data';\n",
              "          await google.colab.output.renderOutput(dataTable, element);\n",
              "          const docLink = document.createElement('div');\n",
              "          docLink.innerHTML = docLinkHtml;\n",
              "          element.appendChild(docLink);\n",
              "        }\n",
              "      </script>\n",
              "    </div>\n",
              "  </div>\n",
              "  "
            ]
          },
          "metadata": {},
          "execution_count": 44
        }
      ]
    },
    {
      "cell_type": "code",
      "source": [
        "df.drop(columns = [\"Month\"],inplace = True)"
      ],
      "metadata": {
        "id": "tCfZqE5tDi7G"
      },
      "execution_count": null,
      "outputs": []
    },
    {
      "cell_type": "code",
      "source": [
        "df.head()"
      ],
      "metadata": {
        "colab": {
          "base_uri": "https://localhost:8080/",
          "height": 238
        },
        "id": "Ak5i0aHsDq4g",
        "outputId": "3dcd3276-9083-435c-eb81-ed1f91ab5a40"
      },
      "execution_count": null,
      "outputs": [
        {
          "output_type": "execute_result",
          "data": {
            "text/plain": [
              "            Monthly milk production: pounds per cow. Jan 62 ? Dec 75\n",
              "Month                                                               \n",
              "1962-01-01                                              589.0       \n",
              "1962-02-01                                              561.0       \n",
              "1962-03-01                                              640.0       \n",
              "1962-04-01                                              656.0       \n",
              "1962-05-01                                              727.0       "
            ],
            "text/html": [
              "\n",
              "  <div id=\"df-7820e1ff-9961-40e5-a2e8-8dd8f7a42832\">\n",
              "    <div class=\"colab-df-container\">\n",
              "      <div>\n",
              "<style scoped>\n",
              "    .dataframe tbody tr th:only-of-type {\n",
              "        vertical-align: middle;\n",
              "    }\n",
              "\n",
              "    .dataframe tbody tr th {\n",
              "        vertical-align: top;\n",
              "    }\n",
              "\n",
              "    .dataframe thead th {\n",
              "        text-align: right;\n",
              "    }\n",
              "</style>\n",
              "<table border=\"1\" class=\"dataframe\">\n",
              "  <thead>\n",
              "    <tr style=\"text-align: right;\">\n",
              "      <th></th>\n",
              "      <th>Monthly milk production: pounds per cow. Jan 62 ? Dec 75</th>\n",
              "    </tr>\n",
              "    <tr>\n",
              "      <th>Month</th>\n",
              "      <th></th>\n",
              "    </tr>\n",
              "  </thead>\n",
              "  <tbody>\n",
              "    <tr>\n",
              "      <th>1962-01-01</th>\n",
              "      <td>589.0</td>\n",
              "    </tr>\n",
              "    <tr>\n",
              "      <th>1962-02-01</th>\n",
              "      <td>561.0</td>\n",
              "    </tr>\n",
              "    <tr>\n",
              "      <th>1962-03-01</th>\n",
              "      <td>640.0</td>\n",
              "    </tr>\n",
              "    <tr>\n",
              "      <th>1962-04-01</th>\n",
              "      <td>656.0</td>\n",
              "    </tr>\n",
              "    <tr>\n",
              "      <th>1962-05-01</th>\n",
              "      <td>727.0</td>\n",
              "    </tr>\n",
              "  </tbody>\n",
              "</table>\n",
              "</div>\n",
              "      <button class=\"colab-df-convert\" onclick=\"convertToInteractive('df-7820e1ff-9961-40e5-a2e8-8dd8f7a42832')\"\n",
              "              title=\"Convert this dataframe to an interactive table.\"\n",
              "              style=\"display:none;\">\n",
              "        \n",
              "  <svg xmlns=\"http://www.w3.org/2000/svg\" height=\"24px\"viewBox=\"0 0 24 24\"\n",
              "       width=\"24px\">\n",
              "    <path d=\"M0 0h24v24H0V0z\" fill=\"none\"/>\n",
              "    <path d=\"M18.56 5.44l.94 2.06.94-2.06 2.06-.94-2.06-.94-.94-2.06-.94 2.06-2.06.94zm-11 1L8.5 8.5l.94-2.06 2.06-.94-2.06-.94L8.5 2.5l-.94 2.06-2.06.94zm10 10l.94 2.06.94-2.06 2.06-.94-2.06-.94-.94-2.06-.94 2.06-2.06.94z\"/><path d=\"M17.41 7.96l-1.37-1.37c-.4-.4-.92-.59-1.43-.59-.52 0-1.04.2-1.43.59L10.3 9.45l-7.72 7.72c-.78.78-.78 2.05 0 2.83L4 21.41c.39.39.9.59 1.41.59.51 0 1.02-.2 1.41-.59l7.78-7.78 2.81-2.81c.8-.78.8-2.07 0-2.86zM5.41 20L4 18.59l7.72-7.72 1.47 1.35L5.41 20z\"/>\n",
              "  </svg>\n",
              "      </button>\n",
              "      \n",
              "  <style>\n",
              "    .colab-df-container {\n",
              "      display:flex;\n",
              "      flex-wrap:wrap;\n",
              "      gap: 12px;\n",
              "    }\n",
              "\n",
              "    .colab-df-convert {\n",
              "      background-color: #E8F0FE;\n",
              "      border: none;\n",
              "      border-radius: 50%;\n",
              "      cursor: pointer;\n",
              "      display: none;\n",
              "      fill: #1967D2;\n",
              "      height: 32px;\n",
              "      padding: 0 0 0 0;\n",
              "      width: 32px;\n",
              "    }\n",
              "\n",
              "    .colab-df-convert:hover {\n",
              "      background-color: #E2EBFA;\n",
              "      box-shadow: 0px 1px 2px rgba(60, 64, 67, 0.3), 0px 1px 3px 1px rgba(60, 64, 67, 0.15);\n",
              "      fill: #174EA6;\n",
              "    }\n",
              "\n",
              "    [theme=dark] .colab-df-convert {\n",
              "      background-color: #3B4455;\n",
              "      fill: #D2E3FC;\n",
              "    }\n",
              "\n",
              "    [theme=dark] .colab-df-convert:hover {\n",
              "      background-color: #434B5C;\n",
              "      box-shadow: 0px 1px 3px 1px rgba(0, 0, 0, 0.15);\n",
              "      filter: drop-shadow(0px 1px 2px rgba(0, 0, 0, 0.3));\n",
              "      fill: #FFFFFF;\n",
              "    }\n",
              "  </style>\n",
              "\n",
              "      <script>\n",
              "        const buttonEl =\n",
              "          document.querySelector('#df-7820e1ff-9961-40e5-a2e8-8dd8f7a42832 button.colab-df-convert');\n",
              "        buttonEl.style.display =\n",
              "          google.colab.kernel.accessAllowed ? 'block' : 'none';\n",
              "\n",
              "        async function convertToInteractive(key) {\n",
              "          const element = document.querySelector('#df-7820e1ff-9961-40e5-a2e8-8dd8f7a42832');\n",
              "          const dataTable =\n",
              "            await google.colab.kernel.invokeFunction('convertToInteractive',\n",
              "                                                     [key], {});\n",
              "          if (!dataTable) return;\n",
              "\n",
              "          const docLinkHtml = 'Like what you see? Visit the ' +\n",
              "            '<a target=\"_blank\" href=https://colab.research.google.com/notebooks/data_table.ipynb>data table notebook</a>'\n",
              "            + ' to learn more about interactive tables.';\n",
              "          element.innerHTML = '';\n",
              "          dataTable['output_type'] = 'display_data';\n",
              "          await google.colab.output.renderOutput(dataTable, element);\n",
              "          const docLink = document.createElement('div');\n",
              "          docLink.innerHTML = docLinkHtml;\n",
              "          element.appendChild(docLink);\n",
              "        }\n",
              "      </script>\n",
              "    </div>\n",
              "  </div>\n",
              "  "
            ]
          },
          "metadata": {},
          "execution_count": 46
        }
      ]
    },
    {
      "cell_type": "code",
      "source": [
        "df.columns=[\"Production\"]\n",
        "df.head()"
      ],
      "metadata": {
        "colab": {
          "base_uri": "https://localhost:8080/",
          "height": 238
        },
        "id": "QusdNdF0DsH5",
        "outputId": "44753b0d-3d82-490a-bfbb-c60bd4f7e29a"
      },
      "execution_count": null,
      "outputs": [
        {
          "output_type": "execute_result",
          "data": {
            "text/plain": [
              "            Production\n",
              "Month                 \n",
              "1962-01-01       589.0\n",
              "1962-02-01       561.0\n",
              "1962-03-01       640.0\n",
              "1962-04-01       656.0\n",
              "1962-05-01       727.0"
            ],
            "text/html": [
              "\n",
              "  <div id=\"df-f77c4fca-f4b5-40b5-af4b-3a49e3a19c95\">\n",
              "    <div class=\"colab-df-container\">\n",
              "      <div>\n",
              "<style scoped>\n",
              "    .dataframe tbody tr th:only-of-type {\n",
              "        vertical-align: middle;\n",
              "    }\n",
              "\n",
              "    .dataframe tbody tr th {\n",
              "        vertical-align: top;\n",
              "    }\n",
              "\n",
              "    .dataframe thead th {\n",
              "        text-align: right;\n",
              "    }\n",
              "</style>\n",
              "<table border=\"1\" class=\"dataframe\">\n",
              "  <thead>\n",
              "    <tr style=\"text-align: right;\">\n",
              "      <th></th>\n",
              "      <th>Production</th>\n",
              "    </tr>\n",
              "    <tr>\n",
              "      <th>Month</th>\n",
              "      <th></th>\n",
              "    </tr>\n",
              "  </thead>\n",
              "  <tbody>\n",
              "    <tr>\n",
              "      <th>1962-01-01</th>\n",
              "      <td>589.0</td>\n",
              "    </tr>\n",
              "    <tr>\n",
              "      <th>1962-02-01</th>\n",
              "      <td>561.0</td>\n",
              "    </tr>\n",
              "    <tr>\n",
              "      <th>1962-03-01</th>\n",
              "      <td>640.0</td>\n",
              "    </tr>\n",
              "    <tr>\n",
              "      <th>1962-04-01</th>\n",
              "      <td>656.0</td>\n",
              "    </tr>\n",
              "    <tr>\n",
              "      <th>1962-05-01</th>\n",
              "      <td>727.0</td>\n",
              "    </tr>\n",
              "  </tbody>\n",
              "</table>\n",
              "</div>\n",
              "      <button class=\"colab-df-convert\" onclick=\"convertToInteractive('df-f77c4fca-f4b5-40b5-af4b-3a49e3a19c95')\"\n",
              "              title=\"Convert this dataframe to an interactive table.\"\n",
              "              style=\"display:none;\">\n",
              "        \n",
              "  <svg xmlns=\"http://www.w3.org/2000/svg\" height=\"24px\"viewBox=\"0 0 24 24\"\n",
              "       width=\"24px\">\n",
              "    <path d=\"M0 0h24v24H0V0z\" fill=\"none\"/>\n",
              "    <path d=\"M18.56 5.44l.94 2.06.94-2.06 2.06-.94-2.06-.94-.94-2.06-.94 2.06-2.06.94zm-11 1L8.5 8.5l.94-2.06 2.06-.94-2.06-.94L8.5 2.5l-.94 2.06-2.06.94zm10 10l.94 2.06.94-2.06 2.06-.94-2.06-.94-.94-2.06-.94 2.06-2.06.94z\"/><path d=\"M17.41 7.96l-1.37-1.37c-.4-.4-.92-.59-1.43-.59-.52 0-1.04.2-1.43.59L10.3 9.45l-7.72 7.72c-.78.78-.78 2.05 0 2.83L4 21.41c.39.39.9.59 1.41.59.51 0 1.02-.2 1.41-.59l7.78-7.78 2.81-2.81c.8-.78.8-2.07 0-2.86zM5.41 20L4 18.59l7.72-7.72 1.47 1.35L5.41 20z\"/>\n",
              "  </svg>\n",
              "      </button>\n",
              "      \n",
              "  <style>\n",
              "    .colab-df-container {\n",
              "      display:flex;\n",
              "      flex-wrap:wrap;\n",
              "      gap: 12px;\n",
              "    }\n",
              "\n",
              "    .colab-df-convert {\n",
              "      background-color: #E8F0FE;\n",
              "      border: none;\n",
              "      border-radius: 50%;\n",
              "      cursor: pointer;\n",
              "      display: none;\n",
              "      fill: #1967D2;\n",
              "      height: 32px;\n",
              "      padding: 0 0 0 0;\n",
              "      width: 32px;\n",
              "    }\n",
              "\n",
              "    .colab-df-convert:hover {\n",
              "      background-color: #E2EBFA;\n",
              "      box-shadow: 0px 1px 2px rgba(60, 64, 67, 0.3), 0px 1px 3px 1px rgba(60, 64, 67, 0.15);\n",
              "      fill: #174EA6;\n",
              "    }\n",
              "\n",
              "    [theme=dark] .colab-df-convert {\n",
              "      background-color: #3B4455;\n",
              "      fill: #D2E3FC;\n",
              "    }\n",
              "\n",
              "    [theme=dark] .colab-df-convert:hover {\n",
              "      background-color: #434B5C;\n",
              "      box-shadow: 0px 1px 3px 1px rgba(0, 0, 0, 0.15);\n",
              "      filter: drop-shadow(0px 1px 2px rgba(0, 0, 0, 0.3));\n",
              "      fill: #FFFFFF;\n",
              "    }\n",
              "  </style>\n",
              "\n",
              "      <script>\n",
              "        const buttonEl =\n",
              "          document.querySelector('#df-f77c4fca-f4b5-40b5-af4b-3a49e3a19c95 button.colab-df-convert');\n",
              "        buttonEl.style.display =\n",
              "          google.colab.kernel.accessAllowed ? 'block' : 'none';\n",
              "\n",
              "        async function convertToInteractive(key) {\n",
              "          const element = document.querySelector('#df-f77c4fca-f4b5-40b5-af4b-3a49e3a19c95');\n",
              "          const dataTable =\n",
              "            await google.colab.kernel.invokeFunction('convertToInteractive',\n",
              "                                                     [key], {});\n",
              "          if (!dataTable) return;\n",
              "\n",
              "          const docLinkHtml = 'Like what you see? Visit the ' +\n",
              "            '<a target=\"_blank\" href=https://colab.research.google.com/notebooks/data_table.ipynb>data table notebook</a>'\n",
              "            + ' to learn more about interactive tables.';\n",
              "          element.innerHTML = '';\n",
              "          dataTable['output_type'] = 'display_data';\n",
              "          await google.colab.output.renderOutput(dataTable, element);\n",
              "          const docLink = document.createElement('div');\n",
              "          docLink.innerHTML = docLinkHtml;\n",
              "          element.appendChild(docLink);\n",
              "        }\n",
              "      </script>\n",
              "    </div>\n",
              "  </div>\n",
              "  "
            ]
          },
          "metadata": {},
          "execution_count": 47
        }
      ]
    },
    {
      "cell_type": "code",
      "source": [
        "df.plot()"
      ],
      "metadata": {
        "colab": {
          "base_uri": "https://localhost:8080/",
          "height": 296
        },
        "id": "qNCpuiLVDxD1",
        "outputId": "fb17f75d-1093-46a0-8a82-adc193b1c7c8"
      },
      "execution_count": null,
      "outputs": [
        {
          "output_type": "execute_result",
          "data": {
            "text/plain": [
              "<matplotlib.axes._subplots.AxesSubplot at 0x7fe22d2c0b50>"
            ]
          },
          "metadata": {},
          "execution_count": 48
        },
        {
          "output_type": "display_data",
          "data": {
            "text/plain": [
              "<Figure size 432x288 with 1 Axes>"
            ],
            "image/png": "[encoded data removed]"
          },
          "metadata": {
            "needs_background": "light"
          }
        }
      ]
    },
    {
      "cell_type": "code",
      "source": [
        "scaler = MinMaxScaler()\n",
        "df = scaler.fit_transform(df)"
      ],
      "metadata": {
        "id": "PzeEMMFlD7NP"
      },
      "execution_count": null,
      "outputs": []
    },
    {
      "cell_type": "code",
      "source": [
        "df"
      ],
      "metadata": {
        "colab": {
          "base_uri": "https://localhost:8080/"
        },
        "id": "2Ec2KMZjFC9l",
        "outputId": "fef8f529-3dde-49df-905d-2a157248a2aa"
      },
      "execution_count": null,
      "outputs": [
        {
          "output_type": "execute_result",
          "data": {
            "text/plain": [
              "array([[0.08653846],\n",
              "       [0.01923077],\n",
              "       [0.20913462],\n",
              "       [0.24759615],\n",
              "       [0.41826923],\n",
              "       [0.34615385],\n",
              "       [0.20913462],\n",
              "       [0.11057692],\n",
              "       [0.03605769],\n",
              "       [0.05769231],\n",
              "       [0.        ],\n",
              "       [0.06971154],\n",
              "       [0.11298077],\n",
              "       [0.03125   ],\n",
              "       [0.24038462],\n",
              "       [0.28846154],\n",
              "       [0.45432692],\n",
              "       [0.39182692],\n",
              "       [0.25721154],\n",
              "       [0.15384615],\n",
              "       [0.07211538],\n",
              "       [0.08173077],\n",
              "       [0.02884615],\n",
              "       [0.10817308],\n",
              "       [0.18028846],\n",
              "       [0.15625   ],\n",
              "       [0.32451923],\n",
              "       [0.36538462],\n",
              "       [0.52163462],\n",
              "       [0.43990385],\n",
              "       [0.30048077],\n",
              "       [0.20673077],\n",
              "       [0.12259615],\n",
              "       [0.13942308],\n",
              "       [0.09855769],\n",
              "       [0.19471154],\n",
              "       [0.25240385],\n",
              "       [0.16586538],\n",
              "       [0.375     ],\n",
              "       [0.40625   ],\n",
              "       [0.55048077],\n",
              "       [0.48798077],\n",
              "       [0.35817308],\n",
              "       [0.24038462],\n",
              "       [0.14903846],\n",
              "       [0.16346154],\n",
              "       [0.11778846],\n",
              "       [0.19711538],\n",
              "       [0.29807692],\n",
              "       [0.19711538],\n",
              "       [0.43990385],\n",
              "       [0.48557692],\n",
              "       [0.62019231],\n",
              "       [0.58894231],\n",
              "       [0.4375    ],\n",
              "       [0.34615385],\n",
              "       [0.25961538],\n",
              "       [0.27403846],\n",
              "       [0.22115385],\n",
              "       [0.32451923],\n",
              "       [0.38461538],\n",
              "       [0.27403846],\n",
              "       [0.50240385],\n",
              "       [0.55528846],\n",
              "       [0.68269231],\n",
              "       [0.63461538],\n",
              "       [0.51442308],\n",
              "       [0.40625   ],\n",
              "       [0.30769231],\n",
              "       [0.32211538],\n",
              "       [0.25721154],\n",
              "       [0.34855769],\n",
              "       [0.39423077],\n",
              "       [0.34375   ],\n",
              "       [0.53365385],\n",
              "       [0.58413462],\n",
              "       [0.73317308],\n",
              "       [0.65625   ],\n",
              "       [0.55288462],\n",
              "       [0.44951923],\n",
              "       [0.35576923],\n",
              "       [0.36778846],\n",
              "       [0.29807692],\n",
              "       [0.37980769],\n",
              "       [0.43509615],\n",
              "       [0.32932692],\n",
              "       [0.55769231],\n",
              "       [0.60576923],\n",
              "       [0.76442308],\n",
              "       [0.70192308],\n",
              "       [0.59615385],\n",
              "       [0.50721154],\n",
              "       [0.41346154],\n",
              "       [0.40865385],\n",
              "       [0.32932692],\n",
              "       [0.43509615],\n",
              "       [0.47355769],\n",
              "       [0.37019231],\n",
              "       [0.61057692],\n",
              "       [0.65144231],\n",
              "       [0.80048077],\n",
              "       [0.73557692],\n",
              "       [0.63942308],\n",
              "       [0.55288462],\n",
              "       [0.44951923],\n",
              "       [0.46634615],\n",
              "       [0.37980769],\n",
              "       [0.47596154],\n",
              "       [0.60336538],\n",
              "       [0.48798077],\n",
              "       [0.73798077],\n",
              "       [0.78125   ],\n",
              "       [0.93509615],\n",
              "       [0.86538462],\n",
              "       [0.75961538],\n",
              "       [0.67548077],\n",
              "       [0.56971154],\n",
              "       [0.59375   ],\n",
              "       [0.50480769],\n",
              "       [0.59375   ],\n",
              "       [0.65625   ],\n",
              "       [0.59134615],\n",
              "       [0.81009615],\n",
              "       [0.83413462],\n",
              "       [0.98076923],\n",
              "       [0.91826923],\n",
              "       [0.81971154],\n",
              "       [0.72596154],\n",
              "       [0.61538462],\n",
              "       [0.61778846],\n",
              "       [0.51201923],\n",
              "       [0.60576923],\n",
              "       [0.64423077],\n",
              "       [0.52884615],\n",
              "       [0.79326923],\n",
              "       [0.82932692],\n",
              "       [0.97115385],\n",
              "       [0.89182692],\n",
              "       [0.78846154],\n",
              "       [0.68269231],\n",
              "       [0.55528846],\n",
              "       [0.57211538],\n",
              "       [0.49759615],\n",
              "       [0.59855769],\n",
              "       [0.66105769],\n",
              "       [0.54086538],\n",
              "       [0.80769231],\n",
              "       [0.83894231],\n",
              "       [1.        ],\n",
              "       [0.94711538],\n",
              "       [0.85336538],\n",
              "       [0.75480769],\n",
              "       [0.62980769],\n",
              "       [0.62259615],\n",
              "       [0.52884615],\n",
              "       [0.625     ],\n",
              "       [0.67548077],\n",
              "       [0.55048077],\n",
              "       [0.81490385],\n",
              "       [0.84134615],\n",
              "       [0.99278846],\n",
              "       [0.92307692],\n",
              "       [0.82451923],\n",
              "       [0.73317308],\n",
              "       [0.63461538],\n",
              "       [0.65865385],\n",
              "       [0.58653846],\n",
              "       [0.69711538]])"
            ]
          },
          "metadata": {},
          "execution_count": 50
        }
      ]
    },
    {
      "cell_type": "code",
      "source": [
        "train_val = int(len(df)*0.9)"
      ],
      "metadata": {
        "id": "QUPUbGGXFEhv"
      },
      "execution_count": null,
      "outputs": []
    },
    {
      "cell_type": "code",
      "source": [
        "X_train, X_test = df[:train_val,:],df[train_val:,:]"
      ],
      "metadata": {
        "id": "PXC5TF-iFV0G"
      },
      "execution_count": null,
      "outputs": []
    },
    {
      "cell_type": "code",
      "source": [
        "def make_dataset(data, window=1):\n",
        "  X,y=[],[]  for i in range(len(data)-window-1):\n",
        "    X.append(df[i:i+window,:])\n",
        "    y.append(df[i+window,:])\n",
        "  return np.array(X),np.array(y)\n",
        "\n",
        "X_train, y_train = make_dataset(X_train,3)\n",
        "X_test, y_test = make_dataset(X_test,3)\n",
        "\n"
      ],
      "metadata": {
        "id": "l5oZqzlNJ40a"
      },
      "execution_count": null,
      "outputs": []
    },
    {
      "cell_type": "code",
      "source": [
        "#LSTM\n",
        "model = tf.keras.models.Sequential([\n",
        "    tf.keras.layers.LSTM(60,return_sequences= True, input_shape=(3,1)),\n",
        "    tf.keras.layers.LSTM(60),\n",
        "    tf.keras.layers.Dense(1)\n",
        "])\n",
        "\n",
        "model.compile(loss=\"mean_squared_error\",optimizer=\"adam\")\n",
        "model.fit(X_train,y_train,validation_data=(X_test,y_test),epochs=100,batch_size=1,verbose=1)"
      ],
      "metadata": {
        "colab": {
          "base_uri": "https://localhost:8080/"
        },
        "id": "m3L6v76z70J3",
        "outputId": "45762658-6266-42fa-8609-b0535866847c"
      },
      "execution_count": null,
      "outputs": [
        {
          "output_type": "stream",
          "name": "stdout",
          "text": [
            "Epoch 1/100\n",
            "139/139 [==============================] - 5s 11ms/step - loss: 541457.6250 - val_loss: 417706.4375\n",
            "Epoch 2/100\n",
            "139/139 [==============================] - 1s 5ms/step - loss: 520779.6875 - val_loss: 405010.8125\n",
            "Epoch 3/100\n",
            "139/139 [==============================] - 1s 5ms/step - loss: 507477.0000 - val_loss: 393567.8125\n",
            "Epoch 4/100\n",
            "139/139 [==============================] - 1s 5ms/step - loss: 494971.0625 - val_loss: 382652.1250\n",
            "Epoch 5/100\n",
            "139/139 [==============================] - 1s 5ms/step - loss: 482921.7188 - val_loss: 372082.0312\n",
            "Epoch 6/100\n",
            "139/139 [==============================] - 1s 5ms/step - loss: 471258.7188 - val_loss: 361867.6562\n",
            "Epoch 7/100\n",
            "139/139 [==============================] - 1s 6ms/step - loss: 459926.2812 - val_loss: 351917.6250\n",
            "Epoch 8/100\n",
            "139/139 [==============================] - 1s 7ms/step - loss: 448868.3438 - val_loss: 342208.6875\n",
            "Epoch 9/100\n",
            "139/139 [==============================] - 1s 6ms/step - loss: 438061.6250 - val_loss: 332746.5000\n",
            "Epoch 10/100\n",
            "139/139 [==============================] - 1s 6ms/step - loss: 427471.5000 - val_loss: 323506.1875\n",
            "Epoch 11/100\n",
            "139/139 [==============================] - 1s 6ms/step - loss: 417089.9375 - val_loss: 314388.4062\n",
            "Epoch 12/100\n",
            "139/139 [==============================] - 1s 6ms/step - loss: 406895.6562 - val_loss: 305504.0312\n",
            "Epoch 13/100\n",
            "139/139 [==============================] - 1s 6ms/step - loss: 396888.1562 - val_loss: 296800.7812\n",
            "Epoch 14/100\n",
            "139/139 [==============================] - 1s 7ms/step - loss: 387059.6562 - val_loss: 288261.3438\n",
            "Epoch 15/100\n",
            "139/139 [==============================] - 1s 7ms/step - loss: 377411.9062 - val_loss: 279871.2500\n",
            "Epoch 16/100\n",
            "139/139 [==============================] - 1s 7ms/step - loss: 367929.8750 - val_loss: 271653.9375\n",
            "Epoch 17/100\n",
            "139/139 [==============================] - 1s 6ms/step - loss: 358606.9375 - val_loss: 263599.7500\n",
            "Epoch 18/100\n",
            "139/139 [==============================] - 1s 5ms/step - loss: 349443.2812 - val_loss: 255714.0312\n",
            "Epoch 19/100\n",
            "139/139 [==============================] - 1s 5ms/step - loss: 340436.8750 - val_loss: 247967.8750\n",
            "Epoch 20/100\n",
            "139/139 [==============================] - 1s 5ms/step - loss: 331584.9062 - val_loss: 240327.3438\n",
            "Epoch 21/100\n",
            "139/139 [==============================] - 1s 5ms/step - loss: 322873.1875 - val_loss: 232856.7812\n",
            "Epoch 22/100\n",
            "139/139 [==============================] - 1s 5ms/step - loss: 314313.0000 - val_loss: 225525.0000\n",
            "Epoch 23/100\n",
            "139/139 [==============================] - 1s 5ms/step - loss: 305895.1562 - val_loss: 218352.0469\n",
            "Epoch 24/100\n",
            "139/139 [==============================] - 1s 5ms/step - loss: 297615.9375 - val_loss: 211296.4531\n",
            "Epoch 25/100\n",
            "139/139 [==============================] - 1s 5ms/step - loss: 289471.1875 - val_loss: 204407.9219\n",
            "Epoch 26/100\n",
            "139/139 [==============================] - 1s 4ms/step - loss: 281480.6562 - val_loss: 197602.8281\n",
            "Epoch 27/100\n",
            "139/139 [==============================] - 1s 5ms/step - loss: 273625.7500 - val_loss: 190959.9375\n",
            "Epoch 28/100\n",
            "139/139 [==============================] - 1s 5ms/step - loss: 265903.1875 - val_loss: 184470.0938\n",
            "Epoch 29/100\n",
            "139/139 [==============================] - 1s 5ms/step - loss: 258324.7812 - val_loss: 178076.9531\n",
            "Epoch 30/100\n",
            "139/139 [==============================] - 1s 5ms/step - loss: 250866.8750 - val_loss: 171870.5938\n",
            "Epoch 31/100\n",
            "139/139 [==============================] - 1s 5ms/step - loss: 243548.7188 - val_loss: 165716.9531\n",
            "Epoch 32/100\n",
            "139/139 [==============================] - 1s 9ms/step - loss: 236359.8750 - val_loss: 159717.8281\n",
            "Epoch 33/100\n",
            "139/139 [==============================] - 1s 6ms/step - loss: 229295.8438 - val_loss: 153869.7812\n",
            "Epoch 34/100\n",
            "139/139 [==============================] - 1s 4ms/step - loss: 222367.1094 - val_loss: 148102.4844\n",
            "Epoch 35/100\n",
            "139/139 [==============================] - 1s 4ms/step - loss: 215563.6406 - val_loss: 142491.3906\n",
            "Epoch 36/100\n",
            "139/139 [==============================] - 1s 5ms/step - loss: 208891.8125 - val_loss: 137005.0938\n",
            "Epoch 37/100\n",
            "139/139 [==============================] - 1s 5ms/step - loss: 202347.8438 - val_loss: 131639.8438\n",
            "Epoch 38/100\n",
            "139/139 [==============================] - 1s 5ms/step - loss: 195923.6094 - val_loss: 126406.8125\n",
            "Epoch 39/100\n",
            "139/139 [==============================] - 1s 5ms/step - loss: 189628.7031 - val_loss: 121267.6250\n",
            "Epoch 40/100\n",
            "139/139 [==============================] - 1s 5ms/step - loss: 183456.7812 - val_loss: 116259.3125\n",
            "Epoch 41/100\n",
            "139/139 [==============================] - 1s 5ms/step - loss: 177404.6094 - val_loss: 111408.1406\n",
            "Epoch 42/100\n",
            "139/139 [==============================] - 1s 5ms/step - loss: 171485.1562 - val_loss: 106611.4141\n",
            "Epoch 43/100\n",
            "139/139 [==============================] - 1s 5ms/step - loss: 165685.0781 - val_loss: 101992.2578\n",
            "Epoch 44/100\n",
            "139/139 [==============================] - 1s 5ms/step - loss: 160018.8750 - val_loss: 97454.5312\n",
            "Epoch 45/100\n",
            "139/139 [==============================] - 1s 5ms/step - loss: 154466.7031 - val_loss: 93076.9531\n",
            "Epoch 46/100\n",
            "139/139 [==============================] - 1s 5ms/step - loss: 149033.7656 - val_loss: 88796.3828\n",
            "Epoch 47/100\n",
            "139/139 [==============================] - 1s 4ms/step - loss: 143719.9531 - val_loss: 84623.4609\n",
            "Epoch 48/100\n",
            "139/139 [==============================] - 1s 5ms/step - loss: 138528.8750 - val_loss: 80573.6719\n",
            "Epoch 49/100\n",
            "139/139 [==============================] - 1s 4ms/step - loss: 133453.3438 - val_loss: 76629.5312\n",
            "Epoch 50/100\n",
            "139/139 [==============================] - 1s 5ms/step - loss: 128498.0703 - val_loss: 72820.2344\n",
            "Epoch 51/100\n",
            "139/139 [==============================] - 1s 5ms/step - loss: 123661.2109 - val_loss: 69123.5156\n",
            "Epoch 52/100\n",
            "139/139 [==============================] - 1s 5ms/step - loss: 118943.1328 - val_loss: 65507.8203\n",
            "Epoch 53/100\n",
            "139/139 [==============================] - 1s 5ms/step - loss: 114336.3359 - val_loss: 62044.8516\n",
            "Epoch 54/100\n",
            "139/139 [==============================] - 1s 5ms/step - loss: 109867.7891 - val_loss: 58616.6641\n",
            "Epoch 55/100\n",
            "139/139 [==============================] - 1s 5ms/step - loss: 105495.7891 - val_loss: 55389.4805\n",
            "Epoch 56/100\n",
            "139/139 [==============================] - 1s 5ms/step - loss: 101245.8672 - val_loss: 52261.0859\n",
            "Epoch 57/100\n",
            "139/139 [==============================] - 1s 5ms/step - loss: 97112.9219 - val_loss: 49206.2852\n",
            "Epoch 58/100\n",
            "139/139 [==============================] - 1s 4ms/step - loss: 93083.3672 - val_loss: 46296.4648\n",
            "Epoch 59/100\n",
            "139/139 [==============================] - 1s 4ms/step - loss: 89167.2266 - val_loss: 43467.8125\n",
            "Epoch 60/100\n",
            "139/139 [==============================] - 1s 4ms/step - loss: 85362.7344 - val_loss: 40740.1641\n",
            "Epoch 61/100\n",
            "139/139 [==============================] - 1s 4ms/step - loss: 81673.3125 - val_loss: 38115.6953\n",
            "Epoch 62/100\n",
            "139/139 [==============================] - 1s 5ms/step - loss: 78091.1562 - val_loss: 35639.7070\n",
            "Epoch 63/100\n",
            "139/139 [==============================] - 1s 5ms/step - loss: 74623.2344 - val_loss: 33223.2695\n",
            "Epoch 64/100\n",
            "139/139 [==============================] - 1s 4ms/step - loss: 71263.0703 - val_loss: 30906.1992\n",
            "Epoch 65/100\n",
            "139/139 [==============================] - 1s 5ms/step - loss: 68015.2266 - val_loss: 28714.6660\n",
            "Epoch 66/100\n",
            "139/139 [==============================] - 1s 5ms/step - loss: 64878.7500 - val_loss: 26602.6914\n",
            "Epoch 67/100\n",
            "139/139 [==============================] - 1s 5ms/step - loss: 61844.3398 - val_loss: 24617.5137\n",
            "Epoch 68/100\n",
            "139/139 [==============================] - 1s 5ms/step - loss: 58913.0508 - val_loss: 22721.0371\n",
            "Epoch 69/100\n",
            "139/139 [==============================] - 1s 6ms/step - loss: 56085.9336 - val_loss: 20914.5078\n",
            "Epoch 70/100\n",
            "139/139 [==============================] - 1s 7ms/step - loss: 53365.3555 - val_loss: 19204.3926\n",
            "Epoch 71/100\n",
            "139/139 [==============================] - 1s 7ms/step - loss: 50746.2500 - val_loss: 17603.5000\n",
            "Epoch 72/100\n",
            "139/139 [==============================] - 1s 7ms/step - loss: 48234.4336 - val_loss: 16062.8936\n",
            "Epoch 73/100\n",
            "139/139 [==============================] - 1s 7ms/step - loss: 45811.6406 - val_loss: 14653.8643\n",
            "Epoch 74/100\n",
            "139/139 [==============================] - 1s 5ms/step - loss: 43493.3750 - val_loss: 13302.7285\n",
            "Epoch 75/100\n",
            "139/139 [==============================] - 1s 4ms/step - loss: 41271.5625 - val_loss: 12048.8232\n",
            "Epoch 76/100\n",
            "139/139 [==============================] - 1s 5ms/step - loss: 39141.8672 - val_loss: 10880.3184\n",
            "Epoch 77/100\n",
            "139/139 [==============================] - 1s 5ms/step - loss: 37107.0430 - val_loss: 9798.6895\n",
            "Epoch 78/100\n",
            "139/139 [==============================] - 1s 5ms/step - loss: 35168.4141 - val_loss: 8793.3633\n",
            "Epoch 79/100\n",
            "139/139 [==============================] - 1s 5ms/step - loss: 33319.2031 - val_loss: 7866.6772\n",
            "Epoch 80/100\n",
            "139/139 [==============================] - 1s 5ms/step - loss: 31563.9180 - val_loss: 7018.0791\n",
            "Epoch 81/100\n",
            "139/139 [==============================] - 1s 5ms/step - loss: 29901.7207 - val_loss: 6244.6948\n",
            "Epoch 82/100\n",
            "139/139 [==============================] - 1s 5ms/step - loss: 28323.6602 - val_loss: 5551.5176\n",
            "Epoch 83/100\n",
            "139/139 [==============================] - 1s 5ms/step - loss: 26839.5879 - val_loss: 4922.7095\n",
            "Epoch 84/100\n",
            "139/139 [==============================] - 1s 5ms/step - loss: 25434.5762 - val_loss: 4374.7710\n",
            "Epoch 85/100\n",
            "139/139 [==============================] - 1s 5ms/step - loss: 24103.1992 - val_loss: 3890.0249\n",
            "Epoch 86/100\n",
            "139/139 [==============================] - 1s 5ms/step - loss: 22852.2871 - val_loss: 3459.0930\n",
            "Epoch 87/100\n",
            "139/139 [==============================] - 1s 5ms/step - loss: 21670.6602 - val_loss: 3100.1001\n",
            "Epoch 88/100\n",
            "139/139 [==============================] - 1s 5ms/step - loss: 20571.0898 - val_loss: 2786.6919\n",
            "Epoch 89/100\n",
            "139/139 [==============================] - 1s 5ms/step - loss: 19544.6055 - val_loss: 2535.1838\n",
            "Epoch 90/100\n",
            "139/139 [==============================] - 1s 4ms/step - loss: 18585.1895 - val_loss: 2332.8535\n",
            "Epoch 91/100\n",
            "139/139 [==============================] - 1s 5ms/step - loss: 17691.8984 - val_loss: 2186.9629\n",
            "Epoch 92/100\n",
            "139/139 [==============================] - 1s 5ms/step - loss: 16865.5117 - val_loss: 2072.7285\n",
            "Epoch 93/100\n",
            "139/139 [==============================] - 1s 4ms/step - loss: 16104.7539 - val_loss: 2009.6497\n",
            "Epoch 94/100\n",
            "139/139 [==============================] - 1s 5ms/step - loss: 15401.4082 - val_loss: 1985.1570\n",
            "Epoch 95/100\n",
            "139/139 [==============================] - 1s 4ms/step - loss: 14754.8691 - val_loss: 1995.6067\n",
            "Epoch 96/100\n",
            "139/139 [==============================] - 1s 4ms/step - loss: 14162.7139 - val_loss: 2037.8704\n",
            "Epoch 97/100\n",
            "139/139 [==============================] - 1s 5ms/step - loss: 13622.8467 - val_loss: 2114.7346\n",
            "Epoch 98/100\n",
            "139/139 [==============================] - 1s 5ms/step - loss: 13127.3760 - val_loss: 2211.0825\n",
            "Epoch 99/100\n",
            "139/139 [==============================] - 1s 4ms/step - loss: 12682.3242 - val_loss: 2331.5391\n",
            "Epoch 100/100\n",
            "139/139 [==============================] - 1s 5ms/step - loss: 12273.7119 - val_loss: 2470.0957\n"
          ]
        },
        {
          "output_type": "execute_result",
          "data": {
            "text/plain": [
              "<keras.callbacks.History at 0x7fe22f863850>"
            ]
          },
          "metadata": {},
          "execution_count": 31
        }
      ]
    },
    {
      "cell_type": "code",
      "source": [
        "pred = scaler.inverse_transform(model.predict(X_test))\n",
        "y_test = scaler.inverse_transform(y_test)"
      ],
      "metadata": {
        "id": "qG5Gk4fy9TqY"
      },
      "execution_count": null,
      "outputs": []
    },
    {
      "cell_type": "code",
      "source": [
        "from sklearn.metrics import mean_squared_error\n",
        "mean_squared_error(pred,y_test)"
      ],
      "metadata": {
        "colab": {
          "base_uri": "https://localhost:8080/"
        },
        "id": "7t--_2Ia-Omg",
        "outputId": "7eab9445-cea2-469b-8ecb-1747fbb63785"
      },
      "execution_count": null,
      "outputs": [
        {
          "output_type": "execute_result",
          "data": {
            "text/plain": [
              "2033.0826401151717"
            ]
          },
          "metadata": {},
          "execution_count": 24
        }
      ]
    },
    {
      "cell_type": "code",
      "source": [
        "import matplotlib.pyplot as plt\n",
        "plt.plot(y_test,label=\"Original value\")\n",
        "plt.plot(pred,label=\"Predicted Value\")"
      ],
      "metadata": {
        "colab": {
          "base_uri": "https://localhost:8080/",
          "height": 284
        },
        "id": "icYy1Mrs-YHL",
        "outputId": "d97412d5-0a12-4955-a3fd-b16cf5955afb"
      },
      "execution_count": null,
      "outputs": [
        {
          "output_type": "execute_result",
          "data": {
            "text/plain": [
              "[<matplotlib.lines.Line2D at 0x7fe23078f0d0>]"
            ]
          },
          "metadata": {},
          "execution_count": 26
        },
        {
          "output_type": "display_data",
          "data": {
            "text/plain": [
              "<Figure size 432x288 with 1 Axes>"
            ],
            "image/png": "[encoded data removed]"
          },
          "metadata": {
            "needs_background": "light"
          }
        }
      ]
    },
    {
      "cell_type": "code",
      "source": [
        "pred_train = scaler.inverse_transform(model.predict(X_train))\n",
        "y_train = scaler.inverse_transform(y_train)"
      ],
      "metadata": {
        "id": "T7vfQ9FE-qKU"
      },
      "execution_count": null,
      "outputs": []
    },
    {
      "cell_type": "code",
      "source": [
        "mean_squared_error(pred_train,y_train)"
      ],
      "metadata": {
        "colab": {
          "base_uri": "https://localhost:8080/"
        },
        "id": "WAGarxoV_FIC",
        "outputId": "45a648a3-3539-4def-87bb-566f7a2fb447"
      },
      "execution_count": null,
      "outputs": [
        {
          "output_type": "execute_result",
          "data": {
            "text/plain": [
              "1702.6291057636304"
            ]
          },
          "metadata": {},
          "execution_count": 28
        }
      ]
    },
    {
      "cell_type": "code",
      "source": [
        "plt.plot(y_train,label=\"Original Value\")\n",
        "plt.plot(pred_train,label=\"Predicted Value\")"
      ],
      "metadata": {
        "colab": {
          "base_uri": "https://localhost:8080/",
          "height": 282
        },
        "id": "tbDXeiux_KcJ",
        "outputId": "206b9c5b-078a-4184-d2dc-89a397563fb2"
      },
      "execution_count": null,
      "outputs": [
        {
          "output_type": "execute_result",
          "data": {
            "text/plain": [
              "[<matplotlib.lines.Line2D at 0x7fe2304d74d0>]"
            ]
          },
          "metadata": {},
          "execution_count": 29
        },
        {
          "output_type": "display_data",
          "data": {
            "text/plain": [
              "<Figure size 432x288 with 1 Axes>"
            ],
            "image/png": "[encoded data removed]"
          },
          "metadata": {
            "needs_background": "light"
          }
        }
      ]
    },
    {
      "cell_type": "code",
      "source": [
        "y_train, y_test = scaler.transform(y_train),scaler.transform(y_test)"
      ],
      "metadata": {
        "id": "n9IXCe24C5AK"
      },
      "execution_count": null,
      "outputs": []
    },
    {
      "cell_type": "code",
      "source": [
        "\n",
        "#GRU\n",
        "model = tf.keras.models.Sequential([\n",
        "    tf.keras.layers.GRU(60,return_sequences=True,input_shape=(3,1)),\n",
        "    tf.keras.layers.GRU(60),\n",
        "    tf.keras.layers.Dense(1)\n",
        "])\n",
        "\n",
        "model.compile(optimizer=\"adam\",loss=\"mean_squared_error\")\n",
        "model.fit(X_train,y_train,validation_batch_size=(X_test,y_test),epochs=100,batch_size=1,verbose=1)"
      ],
      "metadata": {
        "colab": {
          "base_uri": "https://localhost:8080/"
        },
        "id": "0Xot5Gs6_V1z",
        "outputId": "3e274d9a-db37-44b6-8279-e6ed6bf38bd0"
      },
      "execution_count": null,
      "outputs": [
        {
          "output_type": "stream",
          "name": "stdout",
          "text": [
            "Epoch 1/100\n",
            "147/147 [==============================] - 3s 4ms/step - loss: 0.0398\n",
            "Epoch 2/100\n",
            "147/147 [==============================] - 1s 4ms/step - loss: 0.0203\n",
            "Epoch 3/100\n",
            "147/147 [==============================] - 1s 4ms/step - loss: 0.0186\n",
            "Epoch 4/100\n",
            "147/147 [==============================] - 1s 4ms/step - loss: 0.0142\n",
            "Epoch 5/100\n",
            "147/147 [==============================] - 1s 4ms/step - loss: 0.0131\n",
            "Epoch 6/100\n",
            "147/147 [==============================] - 1s 4ms/step - loss: 0.0147\n",
            "Epoch 7/100\n",
            "147/147 [==============================] - 1s 4ms/step - loss: 0.0133\n",
            "Epoch 8/100\n",
            "147/147 [==============================] - 1s 4ms/step - loss: 0.0126\n",
            "Epoch 9/100\n",
            "147/147 [==============================] - 1s 4ms/step - loss: 0.0117\n",
            "Epoch 10/100\n",
            "147/147 [==============================] - 1s 4ms/step - loss: 0.0132\n",
            "Epoch 11/100\n",
            "147/147 [==============================] - 1s 5ms/step - loss: 0.0125\n",
            "Epoch 12/100\n",
            "147/147 [==============================] - 1s 7ms/step - loss: 0.0121\n",
            "Epoch 13/100\n",
            "147/147 [==============================] - 1s 7ms/step - loss: 0.0139\n",
            "Epoch 14/100\n",
            "147/147 [==============================] - 1s 7ms/step - loss: 0.0116\n",
            "Epoch 15/100\n",
            "147/147 [==============================] - 1s 6ms/step - loss: 0.0120\n",
            "Epoch 16/100\n",
            "147/147 [==============================] - 1s 4ms/step - loss: 0.0126\n",
            "Epoch 17/100\n",
            "147/147 [==============================] - 1s 4ms/step - loss: 0.0112\n",
            "Epoch 18/100\n",
            "147/147 [==============================] - 1s 4ms/step - loss: 0.0123\n",
            "Epoch 19/100\n",
            "147/147 [==============================] - 1s 4ms/step - loss: 0.0116\n",
            "Epoch 20/100\n",
            "147/147 [==============================] - 1s 4ms/step - loss: 0.0113\n",
            "Epoch 21/100\n",
            "147/147 [==============================] - 1s 4ms/step - loss: 0.0117\n",
            "Epoch 22/100\n",
            "147/147 [==============================] - 1s 4ms/step - loss: 0.0110\n",
            "Epoch 23/100\n",
            "147/147 [==============================] - 1s 4ms/step - loss: 0.0119\n",
            "Epoch 24/100\n",
            "147/147 [==============================] - 1s 4ms/step - loss: 0.0119\n",
            "Epoch 25/100\n",
            "147/147 [==============================] - 1s 4ms/step - loss: 0.0119\n",
            "Epoch 26/100\n",
            "147/147 [==============================] - 1s 4ms/step - loss: 0.0123\n",
            "Epoch 27/100\n",
            "147/147 [==============================] - 1s 4ms/step - loss: 0.0119\n",
            "Epoch 28/100\n",
            "147/147 [==============================] - 1s 4ms/step - loss: 0.0115\n",
            "Epoch 29/100\n",
            "147/147 [==============================] - 1s 4ms/step - loss: 0.0122\n",
            "Epoch 30/100\n",
            "147/147 [==============================] - 1s 4ms/step - loss: 0.0113\n",
            "Epoch 31/100\n",
            "147/147 [==============================] - 1s 4ms/step - loss: 0.0114\n",
            "Epoch 32/100\n",
            "147/147 [==============================] - 1s 4ms/step - loss: 0.0117\n",
            "Epoch 33/100\n",
            "147/147 [==============================] - 1s 4ms/step - loss: 0.0111\n",
            "Epoch 34/100\n",
            "147/147 [==============================] - 1s 4ms/step - loss: 0.0116\n",
            "Epoch 35/100\n",
            "147/147 [==============================] - 1s 4ms/step - loss: 0.0108\n",
            "Epoch 36/100\n",
            "147/147 [==============================] - 1s 4ms/step - loss: 0.0107\n",
            "Epoch 37/100\n",
            "147/147 [==============================] - 1s 4ms/step - loss: 0.0108\n",
            "Epoch 38/100\n",
            "147/147 [==============================] - 1s 4ms/step - loss: 0.0112\n",
            "Epoch 39/100\n",
            "147/147 [==============================] - 1s 4ms/step - loss: 0.0123\n",
            "Epoch 40/100\n",
            "147/147 [==============================] - 1s 4ms/step - loss: 0.0112\n",
            "Epoch 41/100\n",
            "147/147 [==============================] - 1s 4ms/step - loss: 0.0112\n",
            "Epoch 42/100\n",
            "147/147 [==============================] - 1s 4ms/step - loss: 0.0132\n",
            "Epoch 43/100\n",
            "147/147 [==============================] - 1s 4ms/step - loss: 0.0115\n",
            "Epoch 44/100\n",
            "147/147 [==============================] - 1s 4ms/step - loss: 0.0115\n",
            "Epoch 45/100\n",
            "147/147 [==============================] - 1s 4ms/step - loss: 0.0118\n",
            "Epoch 46/100\n",
            "147/147 [==============================] - 1s 4ms/step - loss: 0.0113\n",
            "Epoch 47/100\n",
            "147/147 [==============================] - 1s 4ms/step - loss: 0.0113\n",
            "Epoch 48/100\n",
            "147/147 [==============================] - 1s 4ms/step - loss: 0.0110\n",
            "Epoch 49/100\n",
            "147/147 [==============================] - 1s 4ms/step - loss: 0.0117\n",
            "Epoch 50/100\n",
            "147/147 [==============================] - 1s 4ms/step - loss: 0.0112\n",
            "Epoch 51/100\n",
            "147/147 [==============================] - 1s 4ms/step - loss: 0.0111\n",
            "Epoch 52/100\n",
            "147/147 [==============================] - 1s 4ms/step - loss: 0.0109\n",
            "Epoch 53/100\n",
            "147/147 [==============================] - 1s 4ms/step - loss: 0.0109\n",
            "Epoch 54/100\n",
            "147/147 [==============================] - 1s 4ms/step - loss: 0.0113\n",
            "Epoch 55/100\n",
            "147/147 [==============================] - 1s 4ms/step - loss: 0.0111\n",
            "Epoch 56/100\n",
            "147/147 [==============================] - 1s 4ms/step - loss: 0.0110\n",
            "Epoch 57/100\n",
            "147/147 [==============================] - 1s 4ms/step - loss: 0.0108\n",
            "Epoch 58/100\n",
            "147/147 [==============================] - 1s 4ms/step - loss: 0.0106\n",
            "Epoch 59/100\n",
            "147/147 [==============================] - 1s 4ms/step - loss: 0.0110\n",
            "Epoch 60/100\n",
            "147/147 [==============================] - 1s 4ms/step - loss: 0.0113\n",
            "Epoch 61/100\n",
            "147/147 [==============================] - 1s 4ms/step - loss: 0.0115\n",
            "Epoch 62/100\n",
            "147/147 [==============================] - 1s 4ms/step - loss: 0.0110\n",
            "Epoch 63/100\n",
            "147/147 [==============================] - 1s 4ms/step - loss: 0.0110\n",
            "Epoch 64/100\n",
            "147/147 [==============================] - 1s 4ms/step - loss: 0.0118\n",
            "Epoch 65/100\n",
            "147/147 [==============================] - 1s 4ms/step - loss: 0.0103\n",
            "Epoch 66/100\n",
            "147/147 [==============================] - 1s 4ms/step - loss: 0.0115\n",
            "Epoch 67/100\n",
            "147/147 [==============================] - 1s 4ms/step - loss: 0.0099\n",
            "Epoch 68/100\n",
            "147/147 [==============================] - 1s 4ms/step - loss: 0.0105\n",
            "Epoch 69/100\n",
            "147/147 [==============================] - 1s 5ms/step - loss: 0.0099\n",
            "Epoch 70/100\n",
            "147/147 [==============================] - 1s 4ms/step - loss: 0.0109\n",
            "Epoch 71/100\n",
            "147/147 [==============================] - 1s 4ms/step - loss: 0.0105\n",
            "Epoch 72/100\n",
            "147/147 [==============================] - 1s 4ms/step - loss: 0.0102\n",
            "Epoch 73/100\n",
            "147/147 [==============================] - 1s 4ms/step - loss: 0.0101\n",
            "Epoch 74/100\n",
            "147/147 [==============================] - 1s 5ms/step - loss: 0.0099\n",
            "Epoch 75/100\n",
            "147/147 [==============================] - 1s 4ms/step - loss: 0.0106\n",
            "Epoch 76/100\n",
            "147/147 [==============================] - 1s 4ms/step - loss: 0.0100\n",
            "Epoch 77/100\n",
            "147/147 [==============================] - 1s 5ms/step - loss: 0.0103\n",
            "Epoch 78/100\n",
            "147/147 [==============================] - 1s 4ms/step - loss: 0.0101\n",
            "Epoch 79/100\n",
            "147/147 [==============================] - 1s 4ms/step - loss: 0.0101\n",
            "Epoch 80/100\n",
            "147/147 [==============================] - 1s 4ms/step - loss: 0.0102\n",
            "Epoch 81/100\n",
            "147/147 [==============================] - 1s 4ms/step - loss: 0.0098\n",
            "Epoch 82/100\n",
            "147/147 [==============================] - 1s 4ms/step - loss: 0.0099\n",
            "Epoch 83/100\n",
            "147/147 [==============================] - 1s 4ms/step - loss: 0.0096\n",
            "Epoch 84/100\n",
            "147/147 [==============================] - 1s 5ms/step - loss: 0.0098\n",
            "Epoch 85/100\n",
            "147/147 [==============================] - 1s 5ms/step - loss: 0.0094\n",
            "Epoch 86/100\n",
            "147/147 [==============================] - 1s 4ms/step - loss: 0.0098\n",
            "Epoch 87/100\n",
            "147/147 [==============================] - 1s 5ms/step - loss: 0.0094\n",
            "Epoch 88/100\n",
            "147/147 [==============================] - 1s 4ms/step - loss: 0.0106\n",
            "Epoch 89/100\n",
            "147/147 [==============================] - 1s 4ms/step - loss: 0.0108\n",
            "Epoch 90/100\n",
            "147/147 [==============================] - 1s 5ms/step - loss: 0.0095\n",
            "Epoch 91/100\n",
            "147/147 [==============================] - 1s 4ms/step - loss: 0.0093\n",
            "Epoch 92/100\n",
            "147/147 [==============================] - 1s 4ms/step - loss: 0.0091\n",
            "Epoch 93/100\n",
            "147/147 [==============================] - 1s 4ms/step - loss: 0.0102\n",
            "Epoch 94/100\n",
            "147/147 [==============================] - 1s 5ms/step - loss: 0.0093\n",
            "Epoch 95/100\n",
            "147/147 [==============================] - 1s 4ms/step - loss: 0.0096\n",
            "Epoch 96/100\n",
            "147/147 [==============================] - 1s 5ms/step - loss: 0.0093\n",
            "Epoch 97/100\n",
            "147/147 [==============================] - 1s 4ms/step - loss: 0.0091\n",
            "Epoch 98/100\n",
            "147/147 [==============================] - 1s 5ms/step - loss: 0.0090\n",
            "Epoch 99/100\n",
            "147/147 [==============================] - 1s 5ms/step - loss: 0.0092\n",
            "Epoch 100/100\n",
            "147/147 [==============================] - 1s 4ms/step - loss: 0.0090\n"
          ]
        },
        {
          "output_type": "execute_result",
          "data": {
            "text/plain": [
              "<keras.callbacks.History at 0x7fe23007c810>"
            ]
          },
          "metadata": {},
          "execution_count": 54
        }
      ]
    },
    {
      "cell_type": "code",
      "source": [
        "pred = scaler.inverse_transform(model.predict(X_test))\n",
        "y_test = scaler.inverse_transform(y_test)\n",
        "\n",
        "plt.plot(y_test,label=\"original value\")\n",
        "plt.plot(pred,label=\"predicted value\")"
      ],
      "metadata": {
        "colab": {
          "base_uri": "https://localhost:8080/",
          "height": 282
        },
        "id": "0CrDUQPUAzYE",
        "outputId": "f77174c8-83d0-45a2-e562-05921e12aeca"
      },
      "execution_count": null,
      "outputs": [
        {
          "output_type": "execute_result",
          "data": {
            "text/plain": [
              "[<matplotlib.lines.Line2D at 0x7fe22b4e3e10>]"
            ]
          },
          "metadata": {},
          "execution_count": 55
        },
        {
          "output_type": "display_data",
          "data": {
            "text/plain": [
              "<Figure size 432x288 with 1 Axes>"
            ],
            "image/png": "[encoded data removed]"
          },
          "metadata": {
            "needs_background": "light"
          }
        }
      ]
    },
    {
      "cell_type": "code",
      "source": [
        "mean_squared_error(pred,y_test)"
      ],
      "metadata": {
        "colab": {
          "base_uri": "https://localhost:8080/"
        },
        "id": "xesKcX8xBmaV",
        "outputId": "0f066167-4679-4e29-e823-af28f660b385"
      },
      "execution_count": null,
      "outputs": [
        {
          "output_type": "execute_result",
          "data": {
            "text/plain": [
              "1939.2081069596684"
            ]
          },
          "metadata": {},
          "execution_count": 56
        }
      ]
    },
    {
      "cell_type": "code",
      "source": [
        "pred_train, ytrain = scaler.inverse_transform(model.predict(X_train)), scaler.inverse_transform(y_train)\n",
        "\n",
        "plt.plot(ytrain, label='Original Training')\n",
        "plt.plot(pred_train, label='Train Predictions')\n",
        "plt.legend()"
      ],
      "metadata": {
        "colab": {
          "base_uri": "https://localhost:8080/",
          "height": 282
        },
        "id": "Z8A37_eJBwpJ",
        "outputId": "152fadbe-cb2b-4a33-f585-9092ec488ca0"
      },
      "execution_count": null,
      "outputs": [
        {
          "output_type": "execute_result",
          "data": {
            "text/plain": [
              "<matplotlib.legend.Legend at 0x7fe22b46cfd0>"
            ]
          },
          "metadata": {},
          "execution_count": 57
        },
        {
          "output_type": "display_data",
          "data": {
            "text/plain": [
              "<Figure size 432x288 with 1 Axes>"
            ],
            "image/png": "[encoded data removed]"
          },
          "metadata": {
            "needs_background": "light"
          }
        }
      ]
    },
    {
      "cell_type": "code",
      "source": [
        "mean_squared_error(pred_train,y_train)"
      ],
      "metadata": {
        "colab": {
          "base_uri": "https://localhost:8080/"
        },
        "id": "i40ksE6GB3_f",
        "outputId": "8b86e1e5-b06b-4b44-a46b-817cf98ed55c"
      },
      "execution_count": null,
      "outputs": [
        {
          "output_type": "execute_result",
          "data": {
            "text/plain": [
              "573954.7606823571"
            ]
          },
          "metadata": {},
          "execution_count": 58
        }
      ]
    },
    {
      "cell_type": "code",
      "source": [],
      "metadata": {
        "id": "tD-55urxDTeM"
      },
      "execution_count": null,
      "outputs": []
    }
  ]
}